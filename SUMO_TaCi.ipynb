{
 "cells": [
  {
   "cell_type": "markdown",
   "metadata": {},
   "source": [
    "## Setup sumo"
   ]
  },
  {
   "cell_type": "code",
   "execution_count": 1,
   "metadata": {},
   "outputs": [],
   "source": [
    "import os\n",
    "import sys\n",
    "if 'SUMO_HOME' in os.environ:\n",
    "    sys.path.append(os.path.join(os.environ['SUMO_HOME'], 'tools'))\n",
    "import traci"
   ]
  },
  {
   "cell_type": "code",
   "execution_count": 2,
   "metadata": {},
   "outputs": [],
   "source": [
    "sys.path.append(os.path.join('c:', os.sep, 'whatever', 'path', 'to', 'sumo', 'tools'))\n"
   ]
  },
  {
   "cell_type": "code",
   "execution_count": 3,
   "metadata": {},
   "outputs": [
    {
     "data": {
      "text/plain": [
       "True"
      ]
     },
     "execution_count": 3,
     "metadata": {},
     "output_type": "execute_result"
    }
   ],
   "source": [
    "from dotenv import load_dotenv\n",
    "load_dotenv()"
   ]
  },
  {
   "cell_type": "code",
   "execution_count": 4,
   "metadata": {},
   "outputs": [],
   "source": [
    "import libsumo as traci"
   ]
  },
  {
   "cell_type": "code",
   "execution_count": 14,
   "metadata": {},
   "outputs": [],
   "source": [
    "sumoBinary = os.getenv(\"sumoBinary\")\n",
    "sumoCmd = [sumoBinary, \"-c\", os.getenv(\"sumocfg\")]"
   ]
  },
  {
   "cell_type": "code",
   "execution_count": 6,
   "metadata": {},
   "outputs": [
    {
     "name": "stdout",
     "output_type": "stream",
     "text": [
      "False\n"
     ]
    }
   ],
   "source": [
    "ds = {}\n",
    "dict1 = {}\n",
    "ds['v1'] = dict1 \n",
    "print('v2' in ds)"
   ]
  },
  {
   "cell_type": "markdown",
   "metadata": {},
   "source": [
    "## Create Car class"
   ]
  },
  {
   "cell_type": "code",
   "execution_count": 7,
   "metadata": {},
   "outputs": [],
   "source": [
    "import traci._vehicle\n",
    "import numpy as np\n",
    "\n",
    "\n",
    "class veh_info:\n",
    "    def __init__(self, name):\n",
    "        self.name = name\n",
    "        self.info()\n",
    "        self.front = None\n",
    "        self.rear = None\n",
    "        self.orear = None\n",
    "        self.ofront = None\n",
    "        \n",
    "    def info(self):\n",
    "        self.speed_()\n",
    "        self.posi_()\n",
    "        self.lane_()\n",
    "        self.acc_()\n",
    "        self.angle_()\n",
    "\n",
    "    def angle_(self):\n",
    "        self.angle = traci.vehicle.getAngle(self.name)\n",
    "    def speed_(self):\n",
    "        self.speed = traci.vehicle.getSpeed(self.name)\n",
    "    def posi_(self):\n",
    "        self.posi = traci.vehicle.getPosition(self.name)\n",
    "    def lane_(self):\n",
    "        self.lane = traci.vehicle.getLaneIndex(self.name)\n",
    "    def acc_(self):\n",
    "        self.acc = traci.vehicle.getAcceleration(self.name)\n",
    "    \n",
    "    def difposi(self,other):\n",
    "        a = np.array(self.posi)\n",
    "        b = np.array(other.posi)\n",
    "        dist = np.linalg.norm(a-b)\n",
    "        return dist\n",
    "\n",
    "    def near(self, listofobj):\n",
    "        self.front = None\n",
    "        self.rear = None\n",
    "        frontposi = None\n",
    "        rearposi = None\n",
    "        for i in listofobj:\n",
    "            if self != i:\n",
    "                if self.lane == i.lane:\n",
    "                    #check front or back\n",
    "                    if self.projposi(i) > 1:\n",
    "                        # print(self.name , \"  \",self.projposi(i))           \n",
    "                    ## for front\n",
    "                        if frontposi == None:\n",
    "                            fronttempfrontposi = self.difposi(i)\n",
    "                            self.front = i\n",
    "                        else:\n",
    "                            if frontposi > fronttempfrontposi:\n",
    "                                frontposi = fronttempfrontposi\n",
    "                                self.front = i\n",
    "                    ## for back\n",
    "                    else:\n",
    "                        # print(self.name , \"  \",self.projposi(i)) \n",
    "                        if rearposi == None:\n",
    "                            reartemprearposi = self.difposi(i)\n",
    "                            self.rear = i\n",
    "                        else:\n",
    "                            if rearposi > reartemprearposi:\n",
    "                                rearposi = reartemprearposi\n",
    "                                self.rear = i                            \n",
    "\n",
    "        # print(self.front)\n",
    "\n",
    "    def nearOtherLane(self, lane_name, listofobj):\n",
    "        frontposi = None\n",
    "        rearposi = None\n",
    "        self.orear = None\n",
    "        self.ofront = None\n",
    "        for i in listofobj:\n",
    "            if self != i:\n",
    "                if lane_name == i.lane:\n",
    "                    #check front or back\n",
    "                    # print(self.projposi(i))\n",
    "                    if self.projposi(i) > 1:\n",
    "                        # print(self.name , \"  \",self.projposi(i))           \n",
    "                    ## for front\n",
    "                        if frontposi == None:\n",
    "                            fronttempfrontposi = self.difposi(i)\n",
    "                            self.ofront = i\n",
    "                        else:\n",
    "                            if frontposi > fronttempfrontposi:\n",
    "                                frontposi = fronttempfrontposi\n",
    "                                self.ofront = i\n",
    "                    ## for back\n",
    "                    else:\n",
    "                        # print(self.name , \"  \",self.projposi(i)) \n",
    "                        if rearposi == None:\n",
    "                            reartemprearposi = self.difposi(i)\n",
    "                            self.orear = i\n",
    "                        else:\n",
    "                            if rearposi > reartemprearposi:\n",
    "                                rearposi = reartemprearposi\n",
    "                                self.orear = i  \n",
    "        # print(self.ofront)\n",
    "    \n",
    "    def projposi(self, other):\n",
    "        n = np.array(self.posi)\n",
    "        anglep = np.arctan2(n[1],n[0])* 180 / np.pi\n",
    "        angle = self.angle\n",
    "        n_norm = np.sqrt(sum(n**2))    \n",
    "        u = np.array(other.posi)\n",
    "        proj_of_u_on_n = (np.dot(u, n)/n_norm**2)\n",
    "        if np.absolute(angle - anglep) > 90:    #find if car is traveling inreverse to the vector of the map  \n",
    "            proj_of_u_on_n*-1     \n",
    "        return proj_of_u_on_n\n",
    "    \n",
    "    def olanetoc(self,lane_name, listofobj):\n",
    "        self.nearOtherLane(lane_name, listofobj)\n",
    "        front = self.ofront\n",
    "        rear = self.orear\n",
    "        # print(rear, \" \", front)\n",
    "        fronttoc = None\n",
    "        reartoc = None\n",
    "        ##front\n",
    "        if front != None:\n",
    "            rx = self.difposi(front)\n",
    "            rv = self.speed - front.speed\n",
    "            ra = self.acc - front.acc\n",
    "            \n",
    "            if rx < 8:\n",
    "                fronttoc = 0\n",
    "            else:\n",
    "                if ra == 0: # Handle zero acceleration\n",
    "                    if rv != 0:\n",
    "                        t = rx / rv\n",
    "                        if t > 0:  # Only future collisions\n",
    "                            fronttoc = t\n",
    "                else:\n",
    "                    discriminant = rv**2 + 2 * ra * rx\n",
    "                    if discriminant >= 0:\n",
    "                        sqrt_d = np.sqrt(discriminant)\n",
    "                        t1 = (-rv + sqrt_d) / ra\n",
    "                        t2 = (-rv - sqrt_d) / ra    \n",
    "                        valid_times = [t for t in (t1, t2) if t > 0] # Find positive times\n",
    "                        if valid_times:\n",
    "                            fronttoc = min(valid_times)  # Earliest collision\n",
    "\n",
    "        if rear != None:\n",
    "            rx = self.difposi(rear)\n",
    "            rv = -(self.speed - rear.speed)\n",
    "            ra = -(self.acc - rear.acc)\n",
    "\n",
    "            if rx < 8:\n",
    "                reartoc = 0\n",
    "            else:\n",
    "                if ra == 0: # Handle zero acceleration\n",
    "                    if rv != 0:\n",
    "                        t = rx / rv\n",
    "                        if t > 0:  # Only future collisions\n",
    "                            reartoc = t\n",
    "                else:\n",
    "                    discriminant = rv**2 + 2 * ra * rx\n",
    "                    if discriminant >= 0:\n",
    "                        sqrt_d = np.sqrt(discriminant)\n",
    "                        t1 = (-rv + sqrt_d) / ra\n",
    "                        t2 = (-rv - sqrt_d) / ra\n",
    "                        valid_times = [t for t in (t1, t2) if t > 0] # Find positive times\n",
    "                        if valid_times:\n",
    "                            reartoc = min(valid_times)  # Earliest collision\n",
    "\n",
    "        return reartoc, fronttoc  \n",
    "            # if ra == 0:\n",
    "            #     reartoc = rx/rv\n",
    "            # elif rv**2 - 2*ra*rx > 0:\n",
    "            #     t1 = (np.sqrt(2* ra *rx + rv**2) - rv) /ra\n",
    "            #     t2 = -(np.sqrt(2* ra *rx + rv**2) + rv) /ra\n",
    "            #     if t1 < t2 and t1 > 0:\n",
    "            #         reartoc = t1\n",
    "            #     elif t2 > 0:\n",
    "            #         reartoc = t2\n",
    "            # else:\n",
    "            #     reartoc = None\n",
    "     \n",
    "        return reartoc,fronttoc\n",
    "    \n",
    "    def lanetoc(self, listofobj):\n",
    "        self.near(listofobj)\n",
    "        front = self.front\n",
    "        rear = self.rear\n",
    "        # print(rear, \" \", front)\n",
    "        fronttoc = None\n",
    "        reartoc = None\n",
    "        ##front\n",
    "        if front != None:\n",
    "            rx = self.difposi(front)\n",
    "            rv = self.speed - front.speed\n",
    "            ra = self.acc - front.acc\n",
    "            if rx < 8:\n",
    "                fronttoc = 0\n",
    "            else:\n",
    "                if ra == 0: # Handle zero acceleration\n",
    "                    if rv != 0:\n",
    "                        t = rx / rv\n",
    "                        if t > 0:  # Only future collisions\n",
    "                            fronttoc = t\n",
    "                else:\n",
    "                    discriminant = rv**2 + 2 * ra * rx\n",
    "                    if discriminant >= 0:\n",
    "                        sqrt_d = np.sqrt(discriminant)\n",
    "                        t1 = (-rv + sqrt_d) / ra\n",
    "                        t2 = (-rv - sqrt_d) / ra    \n",
    "                        valid_times = [t for t in (t1, t2) if t > 0] # Find positive times\n",
    "                        if valid_times:\n",
    "                            fronttoc = min(valid_times)  # Earliest collision\n",
    "\n",
    "        if rear != None:\n",
    "            rx = self.difposi(rear)\n",
    "            rv = -(self.speed - rear.speed)\n",
    "            ra = -(self.acc - rear.acc)\n",
    "            if rx < 8:\n",
    "                reartoc = 0\n",
    "            else:\n",
    "                if ra == 0: # Handle zero acceleration\n",
    "                    if rv != 0:\n",
    "                        t = rx / rv\n",
    "                        if t > 0:  # Only future collisions\n",
    "                            reartoc = t\n",
    "                else:\n",
    "                    discriminant = rv**2 + 2 * ra * rx\n",
    "                    if discriminant >= 0:\n",
    "                        sqrt_d = np.sqrt(discriminant)\n",
    "                        t1 = (-rv + sqrt_d) / ra\n",
    "                        t2 = (-rv - sqrt_d) / ra\n",
    "                        valid_times = [t for t in (t1, t2) if t > 0] # Find positive times\n",
    "                        if valid_times:\n",
    "                            reartoc = min(valid_times)  # Earliest collision\n",
    "        return reartoc, fronttoc  "
   ]
  },
  {
   "cell_type": "code",
   "execution_count": 8,
   "metadata": {},
   "outputs": [],
   "source": [
    "def updateobject(listofobj,arrived_vehicles):\n",
    "    listofobj.pop(arrived_vehicles[0], None)\n",
    "    return listofobj"
   ]
  },
  {
   "cell_type": "markdown",
   "metadata": {},
   "source": [
    "## Rou file Creating"
   ]
  },
  {
   "cell_type": "code",
   "execution_count": 9,
   "metadata": {},
   "outputs": [
    {
     "name": "stdout",
     "output_type": "stream",
     "text": [
      "SUMO route file generated: generated_routes.rou.xml\n"
     ]
    }
   ],
   "source": [
    "import random\n",
    "import xml.etree.ElementTree as ET\n",
    "\n",
    "# Parameters\n",
    "num_vehicles = 2  # Number of vehicles to generate\n",
    "num_flows = 1      # Number of flows to generate\n",
    "edges = [\"E0\"]  # List of possible edges\n",
    "\n",
    "# Create XML structure\n",
    "routes = ET.Element(\"routes\", {\n",
    "    \"xmlns:xsi\": \"http://www.w3.org/2001/XMLSchema-instance\",\n",
    "    \"xsi:noNamespaceSchemaLocation\": \"http://sumo.dlr.de/xsd/routes_file.xsd\"\n",
    "})\n",
    "\n",
    "# Define routes\n",
    "for i, edge in enumerate(edges):\n",
    "    ET.SubElement(routes, \"route\", {\"id\": f\"r_{i}\", \"edges\": edge})\n",
    "\n",
    "# Define flows\n",
    "for i in range(num_flows):\n",
    "    ET.SubElement(routes, \"flow\", {\n",
    "        \"id\": f\"f_{i}\",\n",
    "        \"begin\": str(random.uniform(0, 5)),  # Random start time\n",
    "        \"end\": \"3600.00\",\n",
    "        \"color\": \"255,255,255\",\n",
    "        \"route\": \"r_0\",\n",
    "        \"departSpeed\": str(random.uniform(5, 6)),  # Random speed between 3 and 8 m/s\n",
    "        \"vehsPerHour\": str(random.randint(1000, 2000)),  # Random vehicle flow rate\n",
    "        \"departLane\": \"1\"\n",
    "    })\n",
    "\n",
    "# Define vehicles\n",
    "ET.SubElement(routes, \"vehicle\", {\n",
    "    \"id\": \"v_0\",\n",
    "    \"depart\": str(random.uniform(10, 15)),  # Random depart time\n",
    "    \"departSpeed\": str(random.uniform(3, 5)),  # Random speed between 3 and 8 m/s\n",
    "    \"color\": \"255,0,0\",\n",
    "    \"route\": \"r_0\"\n",
    "})\n",
    "\n",
    "ET.SubElement(routes, \"vehicle\", {\n",
    "    \"id\": \"v_1\",\n",
    "    \"depart\": str(random.uniform(18, 25)),  # Random depart time\n",
    "    \"departSpeed\": str(random.uniform(3, 5)),  # Random speed between 3 and 8 m/s\n",
    "    \"color\": \"0,0,255\",\n",
    "    \"route\": \"r_0\"\n",
    "})\n",
    "\n",
    "# Convert to XML string\n",
    "tree = ET.ElementTree(routes)\n",
    "with open(\"generated_routes.rou.xml\", \"wb\") as file:\n",
    "    tree.write(file, encoding=\"utf-8\", xml_declaration=True)\n",
    "\n",
    "print(\"SUMO route file generated: generated_routes.rou.xml\")\n"
   ]
  },
  {
   "cell_type": "markdown",
   "metadata": {},
   "source": [
    "## Sumo Sim"
   ]
  },
  {
   "cell_type": "code",
   "execution_count": 10,
   "metadata": {},
   "outputs": [
    {
     "ename": "FileNotFoundError",
     "evalue": "[WinError 2] The system cannot find the file specified",
     "output_type": "error",
     "traceback": [
      "\u001b[1;31m---------------------------------------------------------------------------\u001b[0m",
      "\u001b[1;31mFileNotFoundError\u001b[0m                         Traceback (most recent call last)",
      "Cell \u001b[1;32mIn[10], line 4\u001b[0m\n\u001b[0;32m      1\u001b[0m \u001b[38;5;28;01mimport\u001b[39;00m \u001b[38;5;21;01mtraci\u001b[39;00m\u001b[38;5;21;01m.\u001b[39;00m\u001b[38;5;21;01m_vehicle\u001b[39;00m\n\u001b[0;32m      2\u001b[0m \u001b[38;5;28;01mimport\u001b[39;00m \u001b[38;5;21;01mgc\u001b[39;00m\n\u001b[1;32m----> 4\u001b[0m \u001b[43mtraci\u001b[49m\u001b[38;5;241;43m.\u001b[39;49m\u001b[43mstart\u001b[49m\u001b[43m(\u001b[49m\u001b[43msumoCmd\u001b[49m\u001b[43m)\u001b[49m\n\u001b[0;32m      5\u001b[0m listdicts \u001b[38;5;241m=\u001b[39m {}\n\u001b[0;32m      6\u001b[0m step \u001b[38;5;241m=\u001b[39m \u001b[38;5;241m0\u001b[39m\n",
      "File \u001b[1;32mC:\\Program Files (x86)\\Eclipse\\Sumo\\tools\\traci\\main.py:145\u001b[0m, in \u001b[0;36mstart\u001b[1;34m(cmd, port, numRetries, label, verbose, traceFile, traceGetters, stdout, doSwitch)\u001b[0m\n\u001b[0;32m    143\u001b[0m \u001b[38;5;28;01mif\u001b[39;00m verbose:\n\u001b[0;32m    144\u001b[0m     \u001b[38;5;28mprint\u001b[39m(\u001b[38;5;124m\"\u001b[39m\u001b[38;5;124mCalling \u001b[39m\u001b[38;5;124m\"\u001b[39m \u001b[38;5;241m+\u001b[39m \u001b[38;5;124m'\u001b[39m\u001b[38;5;124m \u001b[39m\u001b[38;5;124m'\u001b[39m\u001b[38;5;241m.\u001b[39mjoin(cmd2))\n\u001b[1;32m--> 145\u001b[0m sumoProcess \u001b[38;5;241m=\u001b[39m \u001b[43msubprocess\u001b[49m\u001b[38;5;241;43m.\u001b[39;49m\u001b[43mPopen\u001b[49m\u001b[43m(\u001b[49m\u001b[43mcmd2\u001b[49m\u001b[43m,\u001b[49m\u001b[43m \u001b[49m\u001b[43mstdout\u001b[49m\u001b[38;5;241;43m=\u001b[39;49m\u001b[43mstdout\u001b[49m\u001b[43m)\u001b[49m\n\u001b[0;32m    146\u001b[0m \u001b[38;5;28;01mtry\u001b[39;00m:\n\u001b[0;32m    147\u001b[0m     result \u001b[38;5;241m=\u001b[39m init(sumoPort, numRetries, \u001b[38;5;124m\"\u001b[39m\u001b[38;5;124mlocalhost\u001b[39m\u001b[38;5;124m\"\u001b[39m, label, sumoProcess, doSwitch, traceFile, traceGetters)\n",
      "File \u001b[1;32mc:\\Users\\Chan\\anaconda3\\envs\\Sumo\\lib\\subprocess.py:971\u001b[0m, in \u001b[0;36mPopen.__init__\u001b[1;34m(self, args, bufsize, executable, stdin, stdout, stderr, preexec_fn, close_fds, shell, cwd, env, universal_newlines, startupinfo, creationflags, restore_signals, start_new_session, pass_fds, user, group, extra_groups, encoding, errors, text, umask, pipesize)\u001b[0m\n\u001b[0;32m    967\u001b[0m         \u001b[38;5;28;01mif\u001b[39;00m \u001b[38;5;28mself\u001b[39m\u001b[38;5;241m.\u001b[39mtext_mode:\n\u001b[0;32m    968\u001b[0m             \u001b[38;5;28mself\u001b[39m\u001b[38;5;241m.\u001b[39mstderr \u001b[38;5;241m=\u001b[39m io\u001b[38;5;241m.\u001b[39mTextIOWrapper(\u001b[38;5;28mself\u001b[39m\u001b[38;5;241m.\u001b[39mstderr,\n\u001b[0;32m    969\u001b[0m                     encoding\u001b[38;5;241m=\u001b[39mencoding, errors\u001b[38;5;241m=\u001b[39merrors)\n\u001b[1;32m--> 971\u001b[0m     \u001b[38;5;28;43mself\u001b[39;49m\u001b[38;5;241;43m.\u001b[39;49m\u001b[43m_execute_child\u001b[49m\u001b[43m(\u001b[49m\u001b[43margs\u001b[49m\u001b[43m,\u001b[49m\u001b[43m \u001b[49m\u001b[43mexecutable\u001b[49m\u001b[43m,\u001b[49m\u001b[43m \u001b[49m\u001b[43mpreexec_fn\u001b[49m\u001b[43m,\u001b[49m\u001b[43m \u001b[49m\u001b[43mclose_fds\u001b[49m\u001b[43m,\u001b[49m\n\u001b[0;32m    972\u001b[0m \u001b[43m                        \u001b[49m\u001b[43mpass_fds\u001b[49m\u001b[43m,\u001b[49m\u001b[43m \u001b[49m\u001b[43mcwd\u001b[49m\u001b[43m,\u001b[49m\u001b[43m \u001b[49m\u001b[43menv\u001b[49m\u001b[43m,\u001b[49m\n\u001b[0;32m    973\u001b[0m \u001b[43m                        \u001b[49m\u001b[43mstartupinfo\u001b[49m\u001b[43m,\u001b[49m\u001b[43m \u001b[49m\u001b[43mcreationflags\u001b[49m\u001b[43m,\u001b[49m\u001b[43m \u001b[49m\u001b[43mshell\u001b[49m\u001b[43m,\u001b[49m\n\u001b[0;32m    974\u001b[0m \u001b[43m                        \u001b[49m\u001b[43mp2cread\u001b[49m\u001b[43m,\u001b[49m\u001b[43m \u001b[49m\u001b[43mp2cwrite\u001b[49m\u001b[43m,\u001b[49m\n\u001b[0;32m    975\u001b[0m \u001b[43m                        \u001b[49m\u001b[43mc2pread\u001b[49m\u001b[43m,\u001b[49m\u001b[43m \u001b[49m\u001b[43mc2pwrite\u001b[49m\u001b[43m,\u001b[49m\n\u001b[0;32m    976\u001b[0m \u001b[43m                        \u001b[49m\u001b[43merrread\u001b[49m\u001b[43m,\u001b[49m\u001b[43m \u001b[49m\u001b[43merrwrite\u001b[49m\u001b[43m,\u001b[49m\n\u001b[0;32m    977\u001b[0m \u001b[43m                        \u001b[49m\u001b[43mrestore_signals\u001b[49m\u001b[43m,\u001b[49m\n\u001b[0;32m    978\u001b[0m \u001b[43m                        \u001b[49m\u001b[43mgid\u001b[49m\u001b[43m,\u001b[49m\u001b[43m \u001b[49m\u001b[43mgids\u001b[49m\u001b[43m,\u001b[49m\u001b[43m \u001b[49m\u001b[43muid\u001b[49m\u001b[43m,\u001b[49m\u001b[43m \u001b[49m\u001b[43mumask\u001b[49m\u001b[43m,\u001b[49m\n\u001b[0;32m    979\u001b[0m \u001b[43m                        \u001b[49m\u001b[43mstart_new_session\u001b[49m\u001b[43m)\u001b[49m\n\u001b[0;32m    980\u001b[0m \u001b[38;5;28;01mexcept\u001b[39;00m:\n\u001b[0;32m    981\u001b[0m     \u001b[38;5;66;03m# Cleanup if the child failed starting.\u001b[39;00m\n\u001b[0;32m    982\u001b[0m     \u001b[38;5;28;01mfor\u001b[39;00m f \u001b[38;5;129;01min\u001b[39;00m \u001b[38;5;28mfilter\u001b[39m(\u001b[38;5;28;01mNone\u001b[39;00m, (\u001b[38;5;28mself\u001b[39m\u001b[38;5;241m.\u001b[39mstdin, \u001b[38;5;28mself\u001b[39m\u001b[38;5;241m.\u001b[39mstdout, \u001b[38;5;28mself\u001b[39m\u001b[38;5;241m.\u001b[39mstderr)):\n",
      "File \u001b[1;32mc:\\Users\\Chan\\anaconda3\\envs\\Sumo\\lib\\subprocess.py:1456\u001b[0m, in \u001b[0;36mPopen._execute_child\u001b[1;34m(self, args, executable, preexec_fn, close_fds, pass_fds, cwd, env, startupinfo, creationflags, shell, p2cread, p2cwrite, c2pread, c2pwrite, errread, errwrite, unused_restore_signals, unused_gid, unused_gids, unused_uid, unused_umask, unused_start_new_session)\u001b[0m\n\u001b[0;32m   1454\u001b[0m \u001b[38;5;66;03m# Start the process\u001b[39;00m\n\u001b[0;32m   1455\u001b[0m \u001b[38;5;28;01mtry\u001b[39;00m:\n\u001b[1;32m-> 1456\u001b[0m     hp, ht, pid, tid \u001b[38;5;241m=\u001b[39m \u001b[43m_winapi\u001b[49m\u001b[38;5;241;43m.\u001b[39;49m\u001b[43mCreateProcess\u001b[49m\u001b[43m(\u001b[49m\u001b[43mexecutable\u001b[49m\u001b[43m,\u001b[49m\u001b[43m \u001b[49m\u001b[43margs\u001b[49m\u001b[43m,\u001b[49m\n\u001b[0;32m   1457\u001b[0m \u001b[43m                             \u001b[49m\u001b[38;5;66;43;03m# no special security\u001b[39;49;00m\n\u001b[0;32m   1458\u001b[0m \u001b[43m                             \u001b[49m\u001b[38;5;28;43;01mNone\u001b[39;49;00m\u001b[43m,\u001b[49m\u001b[43m \u001b[49m\u001b[38;5;28;43;01mNone\u001b[39;49;00m\u001b[43m,\u001b[49m\n\u001b[0;32m   1459\u001b[0m \u001b[43m                             \u001b[49m\u001b[38;5;28;43mint\u001b[39;49m\u001b[43m(\u001b[49m\u001b[38;5;129;43;01mnot\u001b[39;49;00m\u001b[43m \u001b[49m\u001b[43mclose_fds\u001b[49m\u001b[43m)\u001b[49m\u001b[43m,\u001b[49m\n\u001b[0;32m   1460\u001b[0m \u001b[43m                             \u001b[49m\u001b[43mcreationflags\u001b[49m\u001b[43m,\u001b[49m\n\u001b[0;32m   1461\u001b[0m \u001b[43m                             \u001b[49m\u001b[43menv\u001b[49m\u001b[43m,\u001b[49m\n\u001b[0;32m   1462\u001b[0m \u001b[43m                             \u001b[49m\u001b[43mcwd\u001b[49m\u001b[43m,\u001b[49m\n\u001b[0;32m   1463\u001b[0m \u001b[43m                             \u001b[49m\u001b[43mstartupinfo\u001b[49m\u001b[43m)\u001b[49m\n\u001b[0;32m   1464\u001b[0m \u001b[38;5;28;01mfinally\u001b[39;00m:\n\u001b[0;32m   1465\u001b[0m     \u001b[38;5;66;03m# Child is launched. Close the parent's copy of those pipe\u001b[39;00m\n\u001b[0;32m   1466\u001b[0m     \u001b[38;5;66;03m# handles that only the child should have open.  You need\u001b[39;00m\n\u001b[1;32m   (...)\u001b[0m\n\u001b[0;32m   1469\u001b[0m     \u001b[38;5;66;03m# pipe will not close when the child process exits and the\u001b[39;00m\n\u001b[0;32m   1470\u001b[0m     \u001b[38;5;66;03m# ReadFile will hang.\u001b[39;00m\n\u001b[0;32m   1471\u001b[0m     \u001b[38;5;28mself\u001b[39m\u001b[38;5;241m.\u001b[39m_close_pipe_fds(p2cread, p2cwrite,\n\u001b[0;32m   1472\u001b[0m                          c2pread, c2pwrite,\n\u001b[0;32m   1473\u001b[0m                          errread, errwrite)\n",
      "\u001b[1;31mFileNotFoundError\u001b[0m: [WinError 2] The system cannot find the file specified"
     ]
    }
   ],
   "source": [
    "import traci._vehicle\n",
    "import gc\n",
    "\n",
    "traci.start(sumoCmd)\n",
    "listdicts = {}\n",
    "step = 0\n",
    "listofobj = []\n",
    "listoftoc = {}\n",
    "listofcars = {}\n",
    "lanechanged ={}\n",
    "car_v_1 = None\n",
    "\n",
    "while traci.simulation.getMinExpectedNumber() > 0:\n",
    "    for veh_id in traci.vehicle.getIDList():\n",
    "        try:\n",
    "            if veh_id not in listdicts.keys(): \n",
    "                globals()[\"car_\" + veh_id] = veh_info(veh_id)\n",
    "                listdicts[veh_id] = globals()[\"car_\" + veh_id]\n",
    "            listofobj = list(listdicts.values())\n",
    "\n",
    "            # listofobj = list(updateobject(listdicts,arrived_vehicles).values())\n",
    "\n",
    "            globals()[\"car_\" + veh_id].info()\n",
    "            globals()[\"car_\" + veh_id].near(listofobj)\n",
    "\n",
    "            # Disable safety mechanisms\n",
    "\n",
    "            traci.vehicle.setLaneChangeMode(veh_id, 0)\n",
    "            traci.vehicle.setSpeedMode(veh_id, 0)\n",
    "\n",
    "                # traci.vehicle.changeLane(\"v_0\", 1, 1)\n",
    "\n",
    "           \n",
    "            arrived_vehicles = traci.simulation.getArrivedIDList()\n",
    "\n",
    "            if arrived_vehicles:\n",
    "                # print(f\"Vehicles arrived this step: {arrived_vehicles[0]}\")\n",
    "                listofobj = list(updateobject(listdicts,arrived_vehicles).values())\n",
    "        except traci.TraCIException as e:\n",
    "            print(f\"Error controlling vehicle {veh_id}: {e}\")\n",
    "\n",
    "        #####get info\n",
    "\n",
    "    if \"v_1\" in list(listdicts.keys()):\n",
    "        globals()[\"car_\" + veh_id].info()\n",
    "        car_v_1.near(listofobj)\n",
    "\n",
    "        # Slow down\n",
    "        if  car_v_1.front != None:\n",
    "            if car_v_1.lanetoc(listofobj)[1]  != None and car_v_1.lanetoc(listofobj)[1] < 6:\n",
    "                traci.vehicle.setSpeed(\"v_1\", car_v_1.front.speed)\n",
    "\n",
    "        # LaneChangeChecking\n",
    "        car_v_1.nearOtherLane(1,listofobj)\n",
    "        listoftoc[step] = car_v_1.olanetoc(1,listofobj)\n",
    "        listofcars[step] = [car_v_1.orear,car_v_1.ofront]         \n",
    "        if len(list(listoftoc)) > 6:\n",
    "            if car_v_0 in listofobj:\n",
    "                traci.vehicle.setSpeed(\"v_0\", 2)\n",
    "\n",
    "        if len(list(listoftoc)) > 8:\n",
    "            if all([i is None or i > 5 for s in range(step-2,step+1) for i in listoftoc[s]]):\n",
    "                traci.vehicle.changeLane(\"v_1\", 1, 1)\n",
    "                lanechanged[step] = step\n",
    "                if  car_v_1.front != None:\n",
    "                    traci.vehicle.setSpeed(\"v_1\", car_v_1.front.speed)\n",
    "                    \n",
    "\n",
    "    # Log collisions\n",
    "    collisions = traci.simulation.getCollidingVehiclesIDList()\n",
    "    if collisions:\n",
    "        print(f\"Step {step}: Collisions detected: {collisions}\")\n",
    "        print(collisions[0])\n",
    "    traci.simulationStep()\n",
    "    step += 1\n",
    "\n",
    "traci.close()\n"
   ]
  },
  {
   "cell_type": "markdown",
   "metadata": {},
   "source": [
    "### Check TTC"
   ]
  },
  {
   "cell_type": "code",
   "execution_count": null,
   "metadata": {},
   "outputs": [
    {
     "data": {
      "text/plain": [
       "{38: 38, 39: 39, 43: 43, 47: 47, 51: 51, 52: 52}"
      ]
     },
     "execution_count": 11,
     "metadata": {},
     "output_type": "execute_result"
    }
   ],
   "source": [
    "lanechanged"
   ]
  },
  {
   "cell_type": "code",
   "execution_count": null,
   "metadata": {},
   "outputs": [],
   "source": [
    "step = list(lanechanged.keys())[0]"
   ]
  },
  {
   "cell_type": "code",
   "execution_count": null,
   "metadata": {},
   "outputs": [
    {
     "name": "stdout",
     "output_type": "stream",
     "text": [
      "step 34 , ttc (np.float64(26.705563649584203), None)\n",
      "step 35 , ttc (np.float64(7.679386987889853), 0)\n",
      "step 36 , ttc (np.float64(5.841301078281949), None)\n",
      "step 37 , ttc (np.float64(28.541066461815976), None)\n",
      "step 38 , ttc (np.float64(7.498151789622734), None)\n",
      "step 39 , ttc (np.float64(7.0242705746157705), None)\n",
      "step 40 , ttc (None, np.float64(1.4916910849510707))\n",
      "step 41 , ttc (None, None)\n"
     ]
    }
   ],
   "source": [
    "for i in range(step-4,step+4):\n",
    "    print(f\"step {i} , ttc {listoftoc[i]}\")"
   ]
  },
  {
   "cell_type": "code",
   "execution_count": null,
   "metadata": {},
   "outputs": [
    {
     "data": {
      "text/plain": [
       "[np.True_, True, np.True_, True, np.True_, True]"
      ]
     },
     "execution_count": 13,
     "metadata": {},
     "output_type": "execute_result"
    }
   ],
   "source": [
    "[i is None or i > 5 for s in range(step-2,step+1) for i in listoftoc[s]]"
   ]
  },
  {
   "cell_type": "code",
   "execution_count": null,
   "metadata": {},
   "outputs": [
    {
     "data": {
      "text/plain": [
       "True"
      ]
     },
     "execution_count": 14,
     "metadata": {},
     "output_type": "execute_result"
    }
   ],
   "source": [
    "all([i is None or i > 3 for s in range(step-2,step+1) for i in listoftoc[s]])"
   ]
  },
  {
   "cell_type": "code",
   "execution_count": null,
   "metadata": {},
   "outputs": [],
   "source": [
    "# ((listdicts['v_0'])[1])[0]"
   ]
  }
 ],
 "metadata": {
  "kernelspec": {
   "display_name": "Sumo",
   "language": "python",
   "name": "python3"
  },
  "language_info": {
   "codemirror_mode": {
    "name": "ipython",
    "version": 3
   },
   "file_extension": ".py",
   "mimetype": "text/x-python",
   "name": "python",
   "nbconvert_exporter": "python",
   "pygments_lexer": "ipython3",
   "version": "3.10.16"
  }
 },
 "nbformat": 4,
 "nbformat_minor": 2
}
