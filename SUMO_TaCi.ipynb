{
 "cells": [
  {
   "cell_type": "markdown",
   "metadata": {},
   "source": [
    "## Setup sumo"
   ]
  },
  {
   "cell_type": "code",
   "execution_count": 5,
   "metadata": {},
   "outputs": [],
   "source": [
    "import os\n",
    "import sys\n",
    "if 'SUMO_HOME' in os.environ:\n",
    "    sys.path.append(os.path.join(os.environ['SUMO_HOME'], 'tools'))\n",
    "import traci"
   ]
  },
  {
   "cell_type": "code",
   "execution_count": 6,
   "metadata": {},
   "outputs": [],
   "source": [
    "sys.path.append(os.path.join('c:', os.sep, 'whatever', 'path', 'to', 'sumo', 'tools'))\n"
   ]
  },
  {
   "cell_type": "code",
   "execution_count": 7,
   "metadata": {},
   "outputs": [
    {
     "data": {
      "text/plain": [
       "True"
      ]
     },
     "execution_count": 7,
     "metadata": {},
     "output_type": "execute_result"
    }
   ],
   "source": [
    "from dotenv import load_dotenv\n",
    "load_dotenv()"
   ]
  },
  {
   "cell_type": "code",
   "execution_count": 8,
   "metadata": {},
   "outputs": [],
   "source": [
    "import libsumo as traci"
   ]
  },
  {
   "cell_type": "code",
   "execution_count": 9,
   "metadata": {},
   "outputs": [],
   "source": [
    "sumoBinary = os.getenv(r\"sumoBinary\")\n",
    "sumoCmd = [sumoBinary, \"-c\", os.getenv(r\"sumocfg\")]"
   ]
  },
  {
   "cell_type": "code",
   "execution_count": 10,
   "metadata": {},
   "outputs": [
    {
     "name": "stdout",
     "output_type": "stream",
     "text": [
      "False\n"
     ]
    }
   ],
   "source": [
    "ds = {}\n",
    "dict1 = {}\n",
    "ds['v1'] = dict1 \n",
    "print('v2' in ds)"
   ]
  },
  {
   "cell_type": "markdown",
   "metadata": {},
   "source": [
    "## Create Car class"
   ]
  },
  {
   "cell_type": "code",
   "execution_count": 11,
   "metadata": {},
   "outputs": [],
   "source": [
    "import traci._vehicle\n",
    "import numpy as np\n",
    "\n",
    "\n",
    "class veh_info:\n",
    "    def __init__(self, name):\n",
    "        self.name = name\n",
    "        self.info()\n",
    "        self.front = None\n",
    "        self.rear = None\n",
    "        self.orear = None\n",
    "        self.ofront = None\n",
    "        \n",
    "    def info(self):\n",
    "        self.speed_()\n",
    "        self.posi_()\n",
    "        self.lane_()\n",
    "        self.acc_()\n",
    "        self.angle_()\n",
    "\n",
    "    def angle_(self):\n",
    "        self.angle = traci.vehicle.getAngle(self.name)\n",
    "    def speed_(self):\n",
    "        self.speed = traci.vehicle.getSpeed(self.name)\n",
    "    def posi_(self):\n",
    "        self.posi = traci.vehicle.getPosition(self.name)\n",
    "    def lane_(self):\n",
    "        self.lane = traci.vehicle.getLaneIndex(self.name)\n",
    "    def acc_(self):\n",
    "        self.acc = traci.vehicle.getAcceleration(self.name)\n",
    "    \n",
    "    def difposi(self,other):\n",
    "        a = np.array(self.posi)\n",
    "        b = np.array(other.posi)\n",
    "        dist = np.linalg.norm(a-b)\n",
    "        return dist\n",
    "\n",
    "    def near(self, listofobj):\n",
    "        self.front = None\n",
    "        self.rear = None\n",
    "        frontposi = None\n",
    "        rearposi = None\n",
    "        for i in listofobj:\n",
    "            if self != i:\n",
    "                if self.lane == i.lane:\n",
    "                    #check front or back\n",
    "                    if self.projposi(i) > 1:\n",
    "                        # print(self.name , \"  \",self.projposi(i))           \n",
    "                    ## for front\n",
    "                        if frontposi == None:\n",
    "                            fronttempfrontposi = self.difposi(i)\n",
    "                            self.front = i\n",
    "                        else:\n",
    "                            if frontposi > fronttempfrontposi:\n",
    "                                frontposi = fronttempfrontposi\n",
    "                                self.front = i\n",
    "                    ## for back\n",
    "                    else:\n",
    "                        # print(self.name , \"  \",self.projposi(i)) \n",
    "                        if rearposi == None:\n",
    "                            reartemprearposi = self.difposi(i)\n",
    "                            self.rear = i\n",
    "                        else:\n",
    "                            if rearposi > reartemprearposi:\n",
    "                                rearposi = reartemprearposi\n",
    "                                self.rear = i                            \n",
    "\n",
    "        # print(self.front)\n",
    "\n",
    "    def nearOtherLane(self, lane_name, listofobj):\n",
    "        frontposi = None\n",
    "        rearposi = None\n",
    "        self.orear = None\n",
    "        self.ofront = None\n",
    "        for i in listofobj:\n",
    "            if self != i:\n",
    "                if lane_name == i.lane:\n",
    "                    #check front or back\n",
    "                    # print(self.projposi(i))\n",
    "                    if self.projposi(i) > 1:\n",
    "                        # print(self.name , \"  \",self.projposi(i))           \n",
    "                    ## for front\n",
    "                        if frontposi == None:\n",
    "                            fronttempfrontposi = self.difposi(i)\n",
    "                            self.ofront = i\n",
    "                        else:\n",
    "                            if frontposi > fronttempfrontposi:\n",
    "                                frontposi = fronttempfrontposi\n",
    "                                self.ofront = i\n",
    "                    ## for back\n",
    "                    else:\n",
    "                        # print(self.name , \"  \",self.projposi(i)) \n",
    "                        if rearposi == None:\n",
    "                            reartemprearposi = self.difposi(i)\n",
    "                            self.orear = i\n",
    "                        else:\n",
    "                            if rearposi > reartemprearposi:\n",
    "                                rearposi = reartemprearposi\n",
    "                                self.orear = i  \n",
    "        # print(self.ofront)\n",
    "    \n",
    "    def projposi(self, other):\n",
    "        n = np.array(self.posi)\n",
    "        anglep = np.arctan2(n[1],n[0])* 180 / np.pi\n",
    "        angle = self.angle\n",
    "        n_norm = np.sqrt(sum(n**2))    \n",
    "        u = np.array(other.posi)\n",
    "        proj_of_u_on_n = (np.dot(u, n)/n_norm**2)\n",
    "        if np.absolute(angle - anglep) > 90:    #find if car is traveling inreverse to the vector of the map  \n",
    "            proj_of_u_on_n*-1     \n",
    "        return proj_of_u_on_n\n",
    "    \n",
    "    def olanetoc(self,lane_name, listofobj):\n",
    "        self.nearOtherLane(lane_name, listofobj)\n",
    "        front = self.ofront\n",
    "        rear = self.orear\n",
    "        # print(rear, \" \", front)\n",
    "        fronttoc = None\n",
    "        reartoc = None\n",
    "        ##front\n",
    "        if front != None:\n",
    "            rx = self.difposi(front)\n",
    "            rv = self.speed - front.speed\n",
    "            ra = self.acc - front.acc\n",
    "            \n",
    "            if rx < 8:\n",
    "                fronttoc = 0\n",
    "            else:\n",
    "                if ra == 0: # Handle zero acceleration\n",
    "                    if rv != 0:\n",
    "                        t = rx / rv\n",
    "                        if t > 0:  # Only future collisions\n",
    "                            fronttoc = t\n",
    "                else:\n",
    "                    discriminant = rv**2 + 2 * ra * rx\n",
    "                    if discriminant >= 0:\n",
    "                        sqrt_d = np.sqrt(discriminant)\n",
    "                        t1 = (-rv + sqrt_d) / ra\n",
    "                        t2 = (-rv - sqrt_d) / ra    \n",
    "                        valid_times = [t for t in (t1, t2) if t > 0] # Find positive times\n",
    "                        if valid_times:\n",
    "                            fronttoc = min(valid_times)  # Earliest collision\n",
    "\n",
    "        if rear != None:\n",
    "            rx = self.difposi(rear)\n",
    "            rv = -(self.speed - rear.speed)\n",
    "            ra = -(self.acc - rear.acc)\n",
    "\n",
    "            if rx < 8:\n",
    "                reartoc = 0\n",
    "            else:\n",
    "                if ra == 0: # Handle zero acceleration\n",
    "                    if rv != 0:\n",
    "                        t = rx / rv\n",
    "                        if t > 0:  # Only future collisions\n",
    "                            reartoc = t\n",
    "                else:\n",
    "                    discriminant = rv**2 + 2 * ra * rx\n",
    "                    if discriminant >= 0:\n",
    "                        sqrt_d = np.sqrt(discriminant)\n",
    "                        t1 = (-rv + sqrt_d) / ra\n",
    "                        t2 = (-rv - sqrt_d) / ra\n",
    "                        valid_times = [t for t in (t1, t2) if t > 0] # Find positive times\n",
    "                        if valid_times:\n",
    "                            reartoc = min(valid_times)  # Earliest collision\n",
    "\n",
    "        return reartoc, fronttoc  \n",
    "            # if ra == 0:\n",
    "            #     reartoc = rx/rv\n",
    "            # elif rv**2 - 2*ra*rx > 0:\n",
    "            #     t1 = (np.sqrt(2* ra *rx + rv**2) - rv) /ra\n",
    "            #     t2 = -(np.sqrt(2* ra *rx + rv**2) + rv) /ra\n",
    "            #     if t1 < t2 and t1 > 0:\n",
    "            #         reartoc = t1\n",
    "            #     elif t2 > 0:\n",
    "            #         reartoc = t2\n",
    "            # else:\n",
    "            #     reartoc = None\n",
    "     \n",
    "        return reartoc,fronttoc\n",
    "    \n",
    "    def lanetoc(self, listofobj):\n",
    "        self.near(listofobj)\n",
    "        front = self.front\n",
    "        rear = self.rear\n",
    "        # print(rear, \" \", front)\n",
    "        fronttoc = None\n",
    "        reartoc = None\n",
    "        ##front\n",
    "        if front != None:\n",
    "            rx = self.difposi(front)\n",
    "            rv = self.speed - front.speed\n",
    "            ra = self.acc - front.acc\n",
    "            if rx < 8:\n",
    "                fronttoc = 0\n",
    "            else:\n",
    "                if ra == 0: # Handle zero acceleration\n",
    "                    if rv != 0:\n",
    "                        t = rx / rv\n",
    "                        if t > 0:  # Only future collisions\n",
    "                            fronttoc = t\n",
    "                else:\n",
    "                    discriminant = rv**2 + 2 * ra * rx\n",
    "                    if discriminant >= 0:\n",
    "                        sqrt_d = np.sqrt(discriminant)\n",
    "                        t1 = (-rv + sqrt_d) / ra\n",
    "                        t2 = (-rv - sqrt_d) / ra    \n",
    "                        valid_times = [t for t in (t1, t2) if t > 0] # Find positive times\n",
    "                        if valid_times:\n",
    "                            fronttoc = min(valid_times)  # Earliest collision\n",
    "\n",
    "        if rear != None:\n",
    "            rx = self.difposi(rear)\n",
    "            rv = -(self.speed - rear.speed)\n",
    "            ra = -(self.acc - rear.acc)\n",
    "            if rx < 8:\n",
    "                reartoc = 0\n",
    "            else:\n",
    "                if ra == 0: # Handle zero acceleration\n",
    "                    if rv != 0:\n",
    "                        t = rx / rv\n",
    "                        if t > 0:  # Only future collisions\n",
    "                            reartoc = t\n",
    "                else:\n",
    "                    discriminant = rv**2 + 2 * ra * rx\n",
    "                    if discriminant >= 0:\n",
    "                        sqrt_d = np.sqrt(discriminant)\n",
    "                        t1 = (-rv + sqrt_d) / ra\n",
    "                        t2 = (-rv - sqrt_d) / ra\n",
    "                        valid_times = [t for t in (t1, t2) if t > 0] # Find positive times\n",
    "                        if valid_times:\n",
    "                            reartoc = min(valid_times)  # Earliest collision\n",
    "        return reartoc, fronttoc  "
   ]
  },
  {
   "cell_type": "code",
   "execution_count": 12,
   "metadata": {},
   "outputs": [],
   "source": [
    "def updateobject(listofobj,arrived_vehicles):\n",
    "    listofobj.pop(arrived_vehicles[0], None)\n",
    "    return listofobj"
   ]
  },
  {
   "cell_type": "markdown",
   "metadata": {},
   "source": [
    "## Rou file Creating"
   ]
  },
  {
   "cell_type": "code",
   "execution_count": 13,
   "metadata": {},
   "outputs": [
    {
     "name": "stdout",
     "output_type": "stream",
     "text": [
      "SUMO route file generated: generated_routes.rou.xml\n"
     ]
    }
   ],
   "source": [
    "import random\n",
    "import xml.etree.ElementTree as ET\n",
    "\n",
    "# Parameters\n",
    "num_vehicles = 2  # Number of vehicles to generate\n",
    "num_flows = 1      # Number of flows to generate\n",
    "edges = [\"E0\"]  # List of possible edges\n",
    "\n",
    "# Create XML structure\n",
    "routes = ET.Element(\"routes\", {\n",
    "    \"xmlns:xsi\": \"http://www.w3.org/2001/XMLSchema-instance\",\n",
    "    \"xsi:noNamespaceSchemaLocation\": \"http://sumo.dlr.de/xsd/routes_file.xsd\"\n",
    "})\n",
    "\n",
    "# Define routes\n",
    "for i, edge in enumerate(edges):\n",
    "    ET.SubElement(routes, \"route\", {\"id\": f\"r_{i}\", \"edges\": edge})\n",
    "\n",
    "# Define flows\n",
    "for i in range(num_flows):\n",
    "    ET.SubElement(routes, \"flow\", {\n",
    "        \"id\": f\"f_{i}\",\n",
    "        \"begin\": str(random.uniform(0, 5)),  # Random start time\n",
    "        \"end\": \"3600.00\",\n",
    "        \"color\": \"255,255,255\",\n",
    "        \"route\": \"r_0\",\n",
    "        \"departSpeed\": str(random.uniform(5, 6)),  # Random speed between 3 and 8 m/s\n",
    "        \"vehsPerHour\": str(random.randint(1000, 2000)),  # Random vehicle flow rate\n",
    "        \"departLane\": \"1\"\n",
    "    })\n",
    "\n",
    "# Define vehicles\n",
    "ET.SubElement(routes, \"vehicle\", {\n",
    "    \"id\": \"v_0\",\n",
    "    \"depart\": str(random.uniform(10, 15)),  # Random depart time\n",
    "    \"departSpeed\": str(random.uniform(3, 5)),  # Random speed between 3 and 8 m/s\n",
    "    \"color\": \"255,0,0\",\n",
    "    \"route\": \"r_0\"\n",
    "})\n",
    "\n",
    "ET.SubElement(routes, \"vehicle\", {\n",
    "    \"id\": \"v_1\",\n",
    "    \"depart\": str(random.uniform(18, 25)),  # Random depart time\n",
    "    \"departSpeed\": str(random.uniform(3, 5)),  # Random speed between 3 and 8 m/s\n",
    "    \"color\": \"0,0,255\",\n",
    "    \"route\": \"r_0\"\n",
    "})\n",
    "\n",
    "# Convert to XML string\n",
    "tree = ET.ElementTree(routes)\n",
    "with open(\"generated_routes.rou.xml\", \"wb\") as file:\n",
    "    tree.write(file, encoding=\"utf-8\", xml_declaration=True)\n",
    "\n",
    "print(\"SUMO route file generated: generated_routes.rou.xml\")\n"
   ]
  },
  {
   "cell_type": "markdown",
   "metadata": {},
   "source": [
    "## Sumo Sim"
   ]
  },
  {
   "cell_type": "code",
   "execution_count": 14,
   "metadata": {},
   "outputs": [
    {
     "ename": "FatalTraCIError",
     "evalue": "Connection closed by SUMO.",
     "output_type": "error",
     "traceback": [
      "\u001b[1;31m---------------------------------------------------------------------------\u001b[0m",
      "\u001b[1;31mFatalTraCIError\u001b[0m                           Traceback (most recent call last)",
      "Cell \u001b[1;32mIn[14], line 74\u001b[0m\n\u001b[0;32m     72\u001b[0m         \u001b[38;5;28mprint\u001b[39m(\u001b[38;5;124mf\u001b[39m\u001b[38;5;124m\"\u001b[39m\u001b[38;5;124mStep \u001b[39m\u001b[38;5;132;01m{\u001b[39;00mstep\u001b[38;5;132;01m}\u001b[39;00m\u001b[38;5;124m: Collisions detected: \u001b[39m\u001b[38;5;132;01m{\u001b[39;00mcollisions\u001b[38;5;132;01m}\u001b[39;00m\u001b[38;5;124m\"\u001b[39m)\n\u001b[0;32m     73\u001b[0m         \u001b[38;5;28mprint\u001b[39m(collisions[\u001b[38;5;241m0\u001b[39m])\n\u001b[1;32m---> 74\u001b[0m     \u001b[43mtraci\u001b[49m\u001b[38;5;241;43m.\u001b[39;49m\u001b[43msimulationStep\u001b[49m\u001b[43m(\u001b[49m\u001b[43m)\u001b[49m\n\u001b[0;32m     75\u001b[0m     step \u001b[38;5;241m+\u001b[39m\u001b[38;5;241m=\u001b[39m \u001b[38;5;241m1\u001b[39m\n\u001b[0;32m     77\u001b[0m traci\u001b[38;5;241m.\u001b[39mclose()\n",
      "File \u001b[1;32mC:\\Program Files (x86)\\Eclipse\\Sumo\\tools\\traci\\main.py:198\u001b[0m, in \u001b[0;36msimulationStep\u001b[1;34m(step)\u001b[0m\n\u001b[0;32m    192\u001b[0m \u001b[38;5;28;01mdef\u001b[39;00m \u001b[38;5;21msimulationStep\u001b[39m(step\u001b[38;5;241m=\u001b[39m\u001b[38;5;241m0\u001b[39m):\n\u001b[0;32m    193\u001b[0m \u001b[38;5;250m    \u001b[39m\u001b[38;5;124;03m\"\"\"simulationStep(float) -> None\u001b[39;00m\n\u001b[0;32m    194\u001b[0m \u001b[38;5;124;03m    Make a simulation step and simulate up to the given second in sim time.\u001b[39;00m\n\u001b[0;32m    195\u001b[0m \u001b[38;5;124;03m    If the given value is 0 or absent, exactly one step is performed.\u001b[39;00m\n\u001b[0;32m    196\u001b[0m \u001b[38;5;124;03m    Values smaller than or equal to the current sim time result in no action.\u001b[39;00m\n\u001b[0;32m    197\u001b[0m \u001b[38;5;124;03m    \"\"\"\u001b[39;00m\n\u001b[1;32m--> 198\u001b[0m     \u001b[43mconnection\u001b[49m\u001b[38;5;241;43m.\u001b[39;49m\u001b[43mcheck\u001b[49m\u001b[43m(\u001b[49m\u001b[43m)\u001b[49m\u001b[38;5;241;43m.\u001b[39;49m\u001b[43msimulationStep\u001b[49m\u001b[43m(\u001b[49m\u001b[43mstep\u001b[49m\u001b[43m)\u001b[49m\n",
      "File \u001b[1;32mC:\\Program Files (x86)\\Eclipse\\Sumo\\tools\\traci\\connection.py:368\u001b[0m, in \u001b[0;36mConnection.simulationStep\u001b[1;34m(self, step)\u001b[0m\n\u001b[0;32m    366\u001b[0m \u001b[38;5;28;01mif\u001b[39;00m \u001b[38;5;28mtype\u001b[39m(step) \u001b[38;5;129;01mis\u001b[39;00m \u001b[38;5;28mint\u001b[39m \u001b[38;5;129;01mand\u001b[39;00m step \u001b[38;5;241m>\u001b[39m\u001b[38;5;241m=\u001b[39m \u001b[38;5;241m1000\u001b[39m:\n\u001b[0;32m    367\u001b[0m     warnings\u001b[38;5;241m.\u001b[39mwarn(\u001b[38;5;124m\"\u001b[39m\u001b[38;5;124mAPI change now handles step as floating point seconds\u001b[39m\u001b[38;5;124m\"\u001b[39m, stacklevel\u001b[38;5;241m=\u001b[39m\u001b[38;5;241m2\u001b[39m)\n\u001b[1;32m--> 368\u001b[0m result \u001b[38;5;241m=\u001b[39m \u001b[38;5;28;43mself\u001b[39;49m\u001b[38;5;241;43m.\u001b[39;49m\u001b[43m_sendCmd\u001b[49m\u001b[43m(\u001b[49m\u001b[43mtc\u001b[49m\u001b[38;5;241;43m.\u001b[39;49m\u001b[43mCMD_SIMSTEP\u001b[49m\u001b[43m,\u001b[49m\u001b[43m \u001b[49m\u001b[38;5;28;43;01mNone\u001b[39;49;00m\u001b[43m,\u001b[49m\u001b[43m \u001b[49m\u001b[38;5;28;43;01mNone\u001b[39;49;00m\u001b[43m,\u001b[49m\u001b[43m \u001b[49m\u001b[38;5;124;43m\"\u001b[39;49m\u001b[38;5;124;43mD\u001b[39;49m\u001b[38;5;124;43m\"\u001b[39;49m\u001b[43m,\u001b[49m\u001b[43m \u001b[49m\u001b[43mstep\u001b[49m\u001b[43m)\u001b[49m\n\u001b[0;32m    369\u001b[0m \u001b[38;5;28;01mfor\u001b[39;00m subscriptionResults \u001b[38;5;129;01min\u001b[39;00m \u001b[38;5;28mself\u001b[39m\u001b[38;5;241m.\u001b[39m_subscriptionMapping\u001b[38;5;241m.\u001b[39mvalues():\n\u001b[0;32m    370\u001b[0m     subscriptionResults\u001b[38;5;241m.\u001b[39mreset()\n",
      "File \u001b[1;32mC:\\Program Files (x86)\\Eclipse\\Sumo\\tools\\traci\\connection.py:231\u001b[0m, in \u001b[0;36mConnection._sendCmd\u001b[1;34m(self, cmdID, varID, objID, format, *values)\u001b[0m\n\u001b[0;32m    229\u001b[0m     \u001b[38;5;28mself\u001b[39m\u001b[38;5;241m.\u001b[39m_string \u001b[38;5;241m+\u001b[39m\u001b[38;5;241m=\u001b[39m struct\u001b[38;5;241m.\u001b[39mpack(\u001b[38;5;124m\"\u001b[39m\u001b[38;5;124m!i\u001b[39m\u001b[38;5;124m\"\u001b[39m, \u001b[38;5;28mlen\u001b[39m(objID)) \u001b[38;5;241m+\u001b[39m objID\n\u001b[0;32m    230\u001b[0m \u001b[38;5;28mself\u001b[39m\u001b[38;5;241m.\u001b[39m_string \u001b[38;5;241m+\u001b[39m\u001b[38;5;241m=\u001b[39m packed\n\u001b[1;32m--> 231\u001b[0m \u001b[38;5;28;01mreturn\u001b[39;00m \u001b[38;5;28;43mself\u001b[39;49m\u001b[38;5;241;43m.\u001b[39;49m\u001b[43m_sendExact\u001b[49m\u001b[43m(\u001b[49m\u001b[43m)\u001b[49m\n",
      "File \u001b[1;32mC:\\Program Files (x86)\\Eclipse\\Sumo\\tools\\traci\\connection.py:137\u001b[0m, in \u001b[0;36mConnection._sendExact\u001b[1;34m(self)\u001b[0m\n\u001b[0;32m    135\u001b[0m     \u001b[38;5;28mself\u001b[39m\u001b[38;5;241m.\u001b[39m_socket\u001b[38;5;241m.\u001b[39mclose()\n\u001b[0;32m    136\u001b[0m     \u001b[38;5;28mself\u001b[39m\u001b[38;5;241m.\u001b[39m_socket \u001b[38;5;241m=\u001b[39m \u001b[38;5;28;01mNone\u001b[39;00m\n\u001b[1;32m--> 137\u001b[0m     \u001b[38;5;28;01mraise\u001b[39;00m FatalTraCIError(\u001b[38;5;124m\"\u001b[39m\u001b[38;5;124mConnection closed by SUMO.\u001b[39m\u001b[38;5;124m\"\u001b[39m)\n\u001b[0;32m    138\u001b[0m \u001b[38;5;28;01mfor\u001b[39;00m command \u001b[38;5;129;01min\u001b[39;00m \u001b[38;5;28mself\u001b[39m\u001b[38;5;241m.\u001b[39m_queue:\n\u001b[0;32m    139\u001b[0m     prefix \u001b[38;5;241m=\u001b[39m result\u001b[38;5;241m.\u001b[39mread(\u001b[38;5;124m\"\u001b[39m\u001b[38;5;124m!BBB\u001b[39m\u001b[38;5;124m\"\u001b[39m)\n",
      "\u001b[1;31mFatalTraCIError\u001b[0m: Connection closed by SUMO."
     ]
    }
   ],
   "source": [
    "import traci._vehicle\n",
    "import gc\n",
    "\n",
    "traci.start(sumoCmd)\n",
    "listdicts = {}\n",
    "step = 0\n",
    "listofobj = []\n",
    "listoftoc = {}\n",
    "listofcars = {}\n",
    "lanechanged ={}\n",
    "car_v_1 = None\n",
    "\n",
    "while traci.simulation.getMinExpectedNumber() > 0:\n",
    "    for veh_id in traci.vehicle.getIDList():\n",
    "        try:\n",
    "            if veh_id not in listdicts.keys(): \n",
    "                globals()[\"car_\" + veh_id] = veh_info(veh_id)\n",
    "                listdicts[veh_id] = globals()[\"car_\" + veh_id]\n",
    "            listofobj = list(listdicts.values())\n",
    "\n",
    "            # listofobj = list(updateobject(listdicts,arrived_vehicles).values())\n",
    "\n",
    "            globals()[\"car_\" + veh_id].info()\n",
    "            globals()[\"car_\" + veh_id].near(listofobj)\n",
    "\n",
    "            # Disable safety mechanisms\n",
    "\n",
    "            traci.vehicle.setLaneChangeMode(veh_id, 0)\n",
    "            traci.vehicle.setSpeedMode(veh_id, 0)\n",
    "\n",
    "                # traci.vehicle.changeLane(\"v_0\", 1, 1)\n",
    "\n",
    "           \n",
    "            arrived_vehicles = traci.simulation.getArrivedIDList()\n",
    "\n",
    "            if arrived_vehicles:\n",
    "                # print(f\"Vehicles arrived this step: {arrived_vehicles[0]}\")\n",
    "                listofobj = list(updateobject(listdicts,arrived_vehicles).values())\n",
    "        except traci.TraCIException as e:\n",
    "            print(f\"Error controlling vehicle {veh_id}: {e}\")\n",
    "\n",
    "        #####get info\n",
    "\n",
    "    if \"v_1\" in list(listdicts.keys()):\n",
    "        globals()[\"car_\" + veh_id].info()\n",
    "        car_v_1.near(listofobj)\n",
    "\n",
    "        # Slow down\n",
    "        if  car_v_1.front != None:\n",
    "            if car_v_1.lanetoc(listofobj)[1]  != None and car_v_1.lanetoc(listofobj)[1] < 6:\n",
    "                traci.vehicle.setSpeed(\"v_1\", car_v_1.front.speed)\n",
    "\n",
    "        # LaneChangeChecking\n",
    "        car_v_1.nearOtherLane(1,listofobj)\n",
    "        listoftoc[step] = car_v_1.olanetoc(1,listofobj)\n",
    "        listofcars[step] = [car_v_1.orear,car_v_1.ofront]         \n",
    "        if len(list(listoftoc)) > 6:\n",
    "            if car_v_0 in listofobj:\n",
    "                traci.vehicle.setSpeed(\"v_0\", 2)\n",
    "\n",
    "        if len(list(listoftoc)) > 8:\n",
    "            if all([i is None or i > 5 for s in range(step-2,step+1) for i in listoftoc[s]]):\n",
    "                traci.vehicle.changeLane(\"v_1\", 1, 1)\n",
    "                lanechanged[step] = step\n",
    "                if  car_v_1.front != None:\n",
    "                    traci.vehicle.setSpeed(\"v_1\", car_v_1.front.speed)\n",
    "                    \n",
    "\n",
    "    # Log collisions\n",
    "    collisions = traci.simulation.getCollidingVehiclesIDList()\n",
    "    if collisions:\n",
    "        print(f\"Step {step}: Collisions detected: {collisions}\")\n",
    "        print(collisions[0])\n",
    "    traci.simulationStep()\n",
    "    step += 1\n",
    "\n",
    "traci.close()\n"
   ]
  },
  {
   "cell_type": "markdown",
   "metadata": {},
   "source": [
    "### Check TTC"
   ]
  },
  {
   "cell_type": "code",
   "execution_count": 15,
   "metadata": {},
   "outputs": [
    {
     "data": {
      "text/plain": [
       "{39: 39,\n",
       " 40: 40,\n",
       " 44: 44,\n",
       " 45: 45,\n",
       " 46: 46,\n",
       " 47: 47,\n",
       " 48: 48,\n",
       " 49: 49,\n",
       " 50: 50,\n",
       " 51: 51}"
      ]
     },
     "execution_count": 15,
     "metadata": {},
     "output_type": "execute_result"
    }
   ],
   "source": [
    "lanechanged"
   ]
  },
  {
   "cell_type": "code",
   "execution_count": 16,
   "metadata": {},
   "outputs": [],
   "source": [
    "step = list(lanechanged.keys())[0]"
   ]
  },
  {
   "cell_type": "code",
   "execution_count": 17,
   "metadata": {},
   "outputs": [
    {
     "name": "stdout",
     "output_type": "stream",
     "text": [
      "step 35 , ttc (np.float64(30.48085728829581), None)\n",
      "step 36 , ttc (np.float64(6.474499587396268), 0)\n",
      "step 37 , ttc (np.float64(6.837323057517493), None)\n",
      "step 38 , ttc (np.float64(32.35013791293564), None)\n",
      "step 39 , ttc (np.float64(8.007266166508604), None)\n",
      "step 40 , ttc (np.float64(33.58157325121934), None)\n",
      "step 41 , ttc (None, np.float64(2.3178036231848713))\n",
      "step 42 , ttc (None, None)\n"
     ]
    }
   ],
   "source": [
    "for i in range(step-4,step+4):\n",
    "    print(f\"step {i} , ttc {listoftoc[i]}\")"
   ]
  },
  {
   "cell_type": "code",
   "execution_count": 18,
   "metadata": {},
   "outputs": [
    {
     "data": {
      "text/plain": [
       "[np.True_, True, np.True_, True, np.True_, True]"
      ]
     },
     "execution_count": 18,
     "metadata": {},
     "output_type": "execute_result"
    }
   ],
   "source": [
    "[i is None or i > 5 for s in range(step-2,step+1) for i in listoftoc[s]]"
   ]
  },
  {
   "cell_type": "code",
   "execution_count": 19,
   "metadata": {},
   "outputs": [
    {
     "data": {
      "text/plain": [
       "True"
      ]
     },
     "execution_count": 19,
     "metadata": {},
     "output_type": "execute_result"
    }
   ],
   "source": [
    "all([i is None or i > 3 for s in range(step-2,step+1) for i in listoftoc[s]])"
   ]
  }
 ],
 "metadata": {
  "kernelspec": {
   "display_name": "Sumo",
   "language": "python",
   "name": "python3"
  },
  "language_info": {
   "codemirror_mode": {
    "name": "ipython",
    "version": 3
   },
   "file_extension": ".py",
   "mimetype": "text/x-python",
   "name": "python",
   "nbconvert_exporter": "python",
   "pygments_lexer": "ipython3",
   "version": "3.10.16"
  }
 },
 "nbformat": 4,
 "nbformat_minor": 2
}
